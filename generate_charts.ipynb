{
 "cells": [
  {
   "cell_type": "code",
   "execution_count": 3,
   "metadata": {},
   "outputs": [
    {
     "name": "stdout",
     "output_type": "stream",
     "text": [
      "Defaulting to user installation because normal site-packages is not writeable\n",
      "Requirement already satisfied: plotly in c:\\users\\tbila\\appdata\\roaming\\python\\python313\\site-packages (6.0.1)\n",
      "Requirement already satisfied: pandas in c:\\users\\tbila\\appdata\\roaming\\python\\python313\\site-packages (2.2.3)\n",
      "Requirement already satisfied: narwhals>=1.15.1 in c:\\users\\tbila\\appdata\\roaming\\python\\python313\\site-packages (from plotly) (1.33.0)\n",
      "Requirement already satisfied: packaging in c:\\users\\tbila\\appdata\\roaming\\python\\python313\\site-packages (from plotly) (24.2)\n",
      "Requirement already satisfied: numpy>=1.26.0 in c:\\users\\tbila\\appdata\\roaming\\python\\python313\\site-packages (from pandas) (2.2.4)\n",
      "Requirement already satisfied: python-dateutil>=2.8.2 in c:\\users\\tbila\\appdata\\roaming\\python\\python313\\site-packages (from pandas) (2.9.0.post0)\n",
      "Requirement already satisfied: pytz>=2020.1 in c:\\users\\tbila\\appdata\\roaming\\python\\python313\\site-packages (from pandas) (2025.2)\n",
      "Requirement already satisfied: tzdata>=2022.7 in c:\\users\\tbila\\appdata\\roaming\\python\\python313\\site-packages (from pandas) (2025.2)\n",
      "Requirement already satisfied: six>=1.5 in c:\\users\\tbila\\appdata\\roaming\\python\\python313\\site-packages (from python-dateutil>=2.8.2->pandas) (1.17.0)\n",
      "Note: you may need to restart the kernel to use updated packages.\n"
     ]
    },
    {
     "name": "stderr",
     "output_type": "stream",
     "text": [
      "\n",
      "[notice] A new release of pip is available: 24.3.1 -> 25.0.1\n",
      "[notice] To update, run: python.exe -m pip install --upgrade pip\n"
     ]
    }
   ],
   "source": [
    "%pip install plotly pandas\n",
    "\n",
    "# 📚 Imports\n",
    "import pandas as pd\n",
    "import plotly.express as px\n",
    "import os\n",
    "\n",
    "# 📂 Ensure output folder exists\n",
    "os.makedirs(\"visuals\", exist_ok=True)\n",
    "\n",
    "# 📥 Load CSVs\n",
    "fp16 = pd.read_csv(\"data/evaluation_results_FP16.csv\")\n",
    "int8 = pd.read_csv(\"data/evaluation_results_INT8.csv\")\n",
    "int4 = pd.read_csv(\"data/evaluation_results_INT4.csv\")\n",
    "\n",
    "# 🏷️ Add precision column\n",
    "fp16[\"Precision\"] = \"FP16\"\n",
    "int8[\"Precision\"] = \"INT8\"\n",
    "int4[\"Precision\"] = \"INT4\"\n",
    "\n",
    "# 🔗 Combine into one DataFrame\n",
    "combined = pd.concat([fp16, int8, int4], ignore_index=True)\n",
    "\n",
    "# ✅ Ensure numeric columns\n",
    "combined[\"BLEU Score\"] = pd.to_numeric(combined[\"BLEU Score\"], errors=\"coerce\")\n",
    "combined[\"Latency (ms)\"] = pd.to_numeric(combined[\"Latency (ms)\"], errors=\"coerce\")\n",
    "\n",
    "# 📌 Create a unique variant ID\n",
    "combined[\"variant_id\"] = combined[\"Model\"] + \"_\" + combined[\"Precision\"]\n",
    "\n",
    "# ========== 1️⃣ FP16 BLEU Score Comparison ==========\n",
    "fig1 = px.bar(fp16, x=\"Model\", y=\"BLEU Score\", color=\"Model\",\n",
    "              title=\"1️⃣ BLEU Score Comparison Within FP16\",\n",
    "              labels={\"BLEU Score\": \"BLEU Score\", \"Model\": \"Model\"})\n",
    "\n",
    "fig1.update_layout(xaxis_tickangle=-45)\n",
    "fig1.write_html(\"visuals/interactive_FP16_bleu.html\")\n",
    "\n",
    "# ========== 2️⃣ INT8 BLEU Score Comparison ==========\n",
    "fig2 = px.bar(int8, x=\"Model\", y=\"BLEU Score\", color=\"Model\",\n",
    "              title=\"2️⃣ BLEU Score Comparison Within INT8\",\n",
    "              labels={\"BLEU Score\": \"BLEU Score\", \"Model\": \"Model\"})\n",
    "\n",
    "fig2.update_layout(xaxis_tickangle=-45)\n",
    "fig2.write_html(\"visuals/interactive_INT8_bleu.html\")\n",
    "\n",
    "# ========== 3️⃣ INT4 BLEU Score Comparison ==========\n",
    "fig3 = px.bar(int4, x=\"Model\", y=\"BLEU Score\", color=\"Model\",\n",
    "              title=\"3️⃣ BLEU Score Comparison Within INT4\",\n",
    "              labels={\"BLEU Score\": \"BLEU Score\", \"Model\": \"Model\"})\n",
    "\n",
    "fig3.update_layout(xaxis_tickangle=-45)\n",
    "fig3.write_html(\"visuals/interactive_INT4_bleu.html\")\n",
    "\n",
    "# ========== 4️⃣ Average BLEU & Latency Across Precisions ==========\n",
    "avg_metrics = combined.groupby(\"Precision\")[[\"BLEU Score\", \"Latency (ms)\"]].mean().reset_index()\n",
    "avg_melted = avg_metrics.melt(id_vars=\"Precision\", var_name=\"Metric\", value_name=\"Value\")\n",
    "\n",
    "fig4 = px.bar(avg_melted, x=\"Metric\", y=\"Value\", color=\"Precision\", barmode=\"group\",\n",
    "              title=\"4️⃣ Average BLEU and Latency Across Precisions\",\n",
    "              labels={\"Value\": \"Average Value\", \"Metric\": \"Metric\"})\n",
    "\n",
    "fig4.write_html(\"visuals/interactive_avg_metrics.html\")\n",
    "\n",
    "# ========== 5️⃣ BLEU Comparison Across All Model Variants ==========\n",
    "fig5 = px.bar(combined, x=\"variant_id\", y=\"BLEU Score\", color=\"Precision\",\n",
    "              title=\"5️⃣ BLEU Score Comparison Across All Model Variants\",\n",
    "              labels={\"BLEU Score\": \"BLEU Score\", \"variant_id\": \"Model + Precision\"})\n",
    "\n",
    "fig5.update_layout(xaxis_tickangle=-90)\n",
    "fig5.write_html(\"visuals/interactive_all_variants_bleu.html\")\n"
   ]
  },
  {
   "cell_type": "code",
   "execution_count": null,
   "metadata": {},
   "outputs": [],
   "source": []
  }
 ],
 "metadata": {
  "kernelspec": {
   "display_name": "Python 3",
   "language": "python",
   "name": "python3"
  },
  "language_info": {
   "codemirror_mode": {
    "name": "ipython",
    "version": 3
   },
   "file_extension": ".py",
   "mimetype": "text/x-python",
   "name": "python",
   "nbconvert_exporter": "python",
   "pygments_lexer": "ipython3",
   "version": "3.13.1"
  }
 },
 "nbformat": 4,
 "nbformat_minor": 2
}
